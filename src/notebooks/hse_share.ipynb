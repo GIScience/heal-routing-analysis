{
 "cells": [
  {
   "cell_type": "markdown",
   "metadata": {},
   "source": [
    "# Share of High-Solar-Exposure (HSE) segments\n",
    "\n",
    "Find out how much of the route is covered with HSE segments. This shows the potential critical heat stress aggregated per time of day."
   ]
  },
  {
   "cell_type": "code",
   "execution_count": 1,
   "metadata": {},
   "outputs": [],
   "source": [
    "import geopandas as gpd\n",
    "import matplotlib.pyplot as plt\n",
    "import numpy as np\n",
    "import pandas as pd\n",
    "import seaborn as sns\n",
    "import warnings\n",
    "from pathlib import Path\n",
    "from tqdm import tqdm\n",
    "\n",
    "# Ignore FutureWarnings from geopandas\n",
    "warnings.simplefilter(action='ignore', category=FutureWarning)\n",
    "warnings.filterwarnings(action='ignore', message='.*initial implementation of Parquet.*')\n",
    "# Ignore SettingWithCopyWarning from (geo-)pandas\n",
    "pd.options.mode.chained_assignment = None  # default='warn'\n",
    "\n",
    "\n",
    "# Config\n",
    "day = 170\n",
    "sensitivity_factor = 1.0\n",
    "\n",
    "in_dir = Path(f'../../export/{day}/{sensitivity_factor}/exportdata')\n",
    "out_dir = Path(in_dir.parent / 'analysis')\n",
    "out_dir.mkdir(parents=True, exist_ok=True)\n",
    "\n",
    "tod_list = ['10am', '1pm', '4pm', '7pm']\n",
    "colors = {\n",
    "    '10am': 'yellowgreen',\n",
    "    '1pm': 'darkgoldenrod',\n",
    "    '4pm': 'plum',\n",
    "    '7pm': 'tab:blue',\n",
    "}\n",
    "default_type = 'shortest'\n",
    "optimized_type = 'shaded'\n",
    "custom_labels = [default_type.title(), 'Shaded']\n",
    "\n",
    "high_sol_expo = 90\n",
    "low_sol_expo = 50\n",
    "\n",
    "n_routes = 625 * 16 # config file parameters (n_routes * poi types)\n",
    "\n",
    "sns.set_theme(style='whitegrid')\n",
    "sns.set_context('paper')\n",
    "\n",
    "xlim = (-2, 102)\n",
    "ylim = (-2, 102)\n",
    "ylim_neg=(2, -102)\n",
    "\n",
    "y_value = 'hse_share'"
   ]
  },
  {
   "cell_type": "code",
   "execution_count": 2,
   "metadata": {},
   "outputs": [],
   "source": [
    "# Helper functions\n",
    "def tod_format(tod):\n",
    "    \"\"\"Returns the formatted time of day string\"\"\"\n",
    "    return tod[:-2] + ' ' + tod[-2:].upper()"
   ]
  },
  {
   "cell_type": "code",
   "execution_count": 3,
   "metadata": {},
   "outputs": [
    {
     "name": "stdout",
     "output_type": "stream",
     "text": [
      "Processing 10am data...\n"
     ]
    },
    {
     "name": "stderr",
     "output_type": "stream",
     "text": [
      "100%|██████████| 10000/10000 [00:08<00:00, 1207.24it/s]\n"
     ]
    },
    {
     "name": "stdout",
     "output_type": "stream",
     "text": [
      "Processing 1pm data...\n"
     ]
    },
    {
     "name": "stderr",
     "output_type": "stream",
     "text": [
      "100%|██████████| 10000/10000 [00:08<00:00, 1116.11it/s]\n"
     ]
    },
    {
     "name": "stdout",
     "output_type": "stream",
     "text": [
      "Processing 4pm data...\n"
     ]
    },
    {
     "name": "stderr",
     "output_type": "stream",
     "text": [
      "100%|██████████| 10000/10000 [00:09<00:00, 1097.98it/s]\n"
     ]
    },
    {
     "name": "stdout",
     "output_type": "stream",
     "text": [
      "Processing 7pm data...\n"
     ]
    },
    {
     "name": "stderr",
     "output_type": "stream",
     "text": [
      "100%|██████████| 10000/10000 [00:08<00:00, 1113.47it/s]\n"
     ]
    }
   ],
   "source": [
    "# Calculate HSE share of optimized routes\n",
    "hse_data = []\n",
    "\n",
    "for tod in tod_list:\n",
    "    print(f'Processing {tod} data...')\n",
    "    gdf = gpd.read_feather(in_dir / f'segments/segments_{tod}.feather')\n",
    "    gdf.to_crs(epsg=25832, inplace=True)\n",
    "    \n",
    "    for route_i in tqdm(range(1, n_routes + 1)):\n",
    "        gdf_ex = gdf[gdf['trip_id'] == route_i]\n",
    "        total_length = gdf_ex['geom'].length.sum()\n",
    "\n",
    "        gdf_hse = gdf_ex[gdf_ex[f'sol_expo_{tod}'] >= high_sol_expo]\n",
    "        hse_length = gdf_hse['geom'].length.sum()\n",
    "\n",
    "        if hse_length > 0.0:\n",
    "            hse_share = (hse_length / total_length) * 100\n",
    "        else:\n",
    "            hse_share = 0.0\n",
    "\n",
    "        route_data = {\n",
    "            'trip_id': route_i,\n",
    "            'time_of_day': tod,\n",
    "            'route_type': f'{optimized_type} route',\n",
    "            'length': round(total_length, 2),\n",
    "            'hse_length': round(hse_length, 2),\n",
    "            'hse_share': round(hse_share, 2)\n",
    "        }\n",
    "        hse_data.append(route_data)"
   ]
  },
  {
   "cell_type": "code",
   "execution_count": 4,
   "metadata": {},
   "outputs": [],
   "source": [
    "# Read data of default routes\n",
    "gdf = gpd.read_feather(in_dir / f'segments/segments_{default_type}.feather')\n",
    "gdf.to_crs(epsg=25832, inplace=True)"
   ]
  },
  {
   "cell_type": "code",
   "execution_count": 5,
   "metadata": {},
   "outputs": [
    {
     "name": "stderr",
     "output_type": "stream",
     "text": [
      "100%|██████████| 10000/10000 [00:18<00:00, 528.39it/s]\n"
     ]
    }
   ],
   "source": [
    "# Calculate HSE share for default routes\n",
    "hse_data_default = []\n",
    "\n",
    "for route_i in tqdm(range(1, n_routes + 1)):\n",
    "    gdf_ex = gdf[gdf['trip_id'] == route_i]\n",
    "    total_length = gdf_ex['geom'].length.sum()\n",
    "\n",
    "    for tod in tod_list:\n",
    "        gdf_hse = gdf_ex[gdf_ex[f'sol_expo_{tod}'] >= high_sol_expo]\n",
    "        hse_length = gdf_hse['geom'].length.sum()\n",
    "\n",
    "        if hse_length > 0.0:\n",
    "            hse_share = (hse_length / total_length) * 100\n",
    "        else:\n",
    "            hse_share = 0.0\n",
    "\n",
    "        route_data = {\n",
    "            'trip_id': route_i,\n",
    "            'time_of_day': tod,\n",
    "            'route_type': f'{default_type} route',\n",
    "            'length': round(total_length, 2),\n",
    "            'hse_length': round(hse_length, 2),\n",
    "            'hse_share': round(hse_share, 2)\n",
    "        }\n",
    "        hse_data_default.append(route_data)"
   ]
  },
  {
   "cell_type": "code",
   "execution_count": 6,
   "metadata": {},
   "outputs": [
    {
     "data": {
      "text/plain": [
       "(40000, 40000)"
      ]
     },
     "execution_count": 6,
     "metadata": {},
     "output_type": "execute_result"
    }
   ],
   "source": [
    "len(hse_data), len(hse_data_default)"
   ]
  },
  {
   "cell_type": "code",
   "execution_count": 7,
   "metadata": {},
   "outputs": [],
   "source": [
    "# Merge deault and optimized data\n",
    "hse_df = pd.DataFrame(hse_data + hse_data_default)\n",
    "hse_df.sort_values(by=['trip_id', 'time_of_day'], inplace=True)\n",
    "hse_df.reset_index(drop=True, inplace=True)\n",
    "\n",
    "hse_df.to_feather(out_dir / f'{y_value}.feather')"
   ]
  },
  {
   "cell_type": "markdown",
   "metadata": {},
   "source": [
    "If re-running, start from here to skip preprocessing"
   ]
  },
  {
   "cell_type": "code",
   "execution_count": 8,
   "metadata": {},
   "outputs": [],
   "source": [
    "hse_df = pd.read_feather(out_dir / f'{y_value}.feather')"
   ]
  },
  {
   "cell_type": "code",
   "execution_count": 9,
   "metadata": {},
   "outputs": [],
   "source": [
    "def permutation_test(dfex, n_perm=9999):\n",
    "    \"\"\"Use permutation test to compare the mean differences in HSE shares between default and optimized routes.\"\"\"\n",
    "    df1 = dfex[dfex['route_type'] == f'{default_type} route'].sort_values('trip_id')\n",
    "    df2 = dfex[dfex['route_type'] == f'{optimized_type} route'].sort_values('trip_id')\n",
    "    assert all(df1['trip_id'].values == df2['trip_id'].values), \"Trip IDs must match between default and optimized routes\"\n",
    "\n",
    "    x = df1[f'hse_share'].values\n",
    "    y = df2[f'hse_share'].values\n",
    "    assert x.shape == y.shape, \"Input arrays must have the same shape\"\n",
    "\n",
    "    differences = x - y\n",
    "    obs_mean_diff = np.mean(differences)\n",
    "\n",
    "    signs = np.random.choice([-1, 1], size=(n_perm, len(differences)))\n",
    "    permuted_means = np.mean(signs * differences, axis=1)\n",
    "\n",
    "    p_value = np.mean(permuted_means >= obs_mean_diff) # h1: the mean of the permuted differences is greater than or equal to the observed mean difference (hse shares of optimized route is lower than default route)\n",
    "\n",
    "    if p_value < 0.001:\n",
    "        sig_level = '***'\n",
    "    elif p_value < 0.01:\n",
    "        sig_level = '**'\n",
    "    elif p_value < 0.05:\n",
    "        sig_level = '*'\n",
    "    else:\n",
    "        sig_level = 'ns'\n",
    "\n",
    "    cohens_d = obs_mean_diff / np.std(differences, ddof=1)\n",
    "\n",
    "    return obs_mean_diff, p_value, sig_level, cohens_d"
   ]
  },
  {
   "cell_type": "code",
   "execution_count": 10,
   "metadata": {},
   "outputs": [
    {
     "name": "stdout",
     "output_type": "stream",
     "text": [
      "10am: obs_mean=7.7440, p_value=0.0000, significance=***, cohens_d=0.5434\n",
      "10am - hse_share - shortest - Median: 37.81 - Max: 100.0 - Min: 0.0\n",
      "10am - hse_share - shaded - Median: 23.985 - Max: 100.0 - Min: 0.0\n",
      "1pm: obs_mean=7.5072, p_value=0.0000, significance=***, cohens_d=0.5635\n",
      "1pm - hse_share - shortest - Median: 42.68 - Max: 100.0 - Min: 0.0\n",
      "1pm - hse_share - shaded - Median: 29.755 - Max: 100.0 - Min: 0.0\n",
      "4pm: obs_mean=8.0346, p_value=0.0000, significance=***, cohens_d=0.5692\n",
      "4pm - hse_share - shortest - Median: 39.685 - Max: 100.0 - Min: 0.0\n",
      "4pm - hse_share - shaded - Median: 25.105 - Max: 100.0 - Min: 0.0\n",
      "7pm: obs_mean=7.5484, p_value=0.0000, significance=***, cohens_d=0.5189\n",
      "7pm - hse_share - shortest - Median: 33.045 - Max: 100.0 - Min: 0.0\n",
      "7pm - hse_share - shaded - Median: 19.585 - Max: 100.0 - Min: 0.0\n"
     ]
    },
    {
     "data": {
      "image/png": "[encoded data removed]",
      "text/plain": [
       "<Figure size 1200x500 with 4 Axes>"
      ]
     },
     "metadata": {},
     "output_type": "display_data"
    }
   ],
   "source": [
    "fig, axes = plt.subplots(ncols=4, nrows=1, figsize=(12, 5), sharey=True)\n",
    "\n",
    "for col, (tod, ax) in enumerate(zip(tod_list, axes)):\n",
    "    dfex = hse_df[hse_df['time_of_day'] == tod]\n",
    "    g = sns.boxenplot(data=dfex, x='route_type', y=y_value, order=[f'{default_type} route', f'{optimized_type} route'], palette={f'{default_type} route': 'darkgrey', f'{optimized_type} route': colors[tod]},  ax=ax)\n",
    "    g.set_xlabel('')\n",
    "    g.set_ylabel('Share of HSE segments [%]', fontsize=12) if col == 0 else g.set_ylabel('')\n",
    "    g.set_ylim(ylim)\n",
    "    g.set_title(tod_format(tod), fontsize=12)\n",
    "    median_default = dfex[dfex['route_type'] == f'{default_type} route'][y_value].median()\n",
    "    median_time = dfex[dfex['route_type'] == f'{optimized_type} route'][y_value].median()\n",
    "    max_default = dfex[dfex['route_type'] == f'{default_type} route'][y_value].max()\n",
    "    max_time = dfex[dfex['route_type'] == f'{optimized_type} route'][y_value].max()\n",
    "    min_default = dfex[dfex['route_type'] == f'{default_type} route'][y_value].min()\n",
    "    min_time = dfex[dfex['route_type'] == f'{optimized_type} route'][y_value].min()\n",
    "    g.text(0, median_default, f'{round(median_default, 2)}', ha='center', va='center', fontweight='bold', fontsize=10, color='white')\n",
    "    g.text(1, median_time, f'{round(median_time, 2)}', ha='center', va='center', fontweight='bold', fontsize=10, color='white')\n",
    "    g.set_xticklabels(custom_labels, fontsize=12)\n",
    "\n",
    "    obs_mean, p_value, sig_level, cohens_d = permutation_test(dfex)\n",
    "    g.text(0.5, 92.5, sig_level, ha='center', fontsize=14)\n",
    "    g.text(0.5, 90, rf'$d$ = {cohens_d:.2f}', ha='center', fontsize=10)\n",
    "    print(f'{tod}: obs_mean={obs_mean:.4f}, p_value={p_value:.4f}, significance={sig_level}, cohens_d={cohens_d:.4f}')\n",
    "\n",
    "    print(f'{tod} - {y_value} - {default_type} - Median: {median_default} - Max: {max_default} - Min: {min_default}')\n",
    "    print(f'{tod} - {y_value} - {optimized_type} - Median: {median_time} - Max: {max_time} - Min: {min_time}')\n",
    "\n",
    "plt.tight_layout()\n",
    "plt.savefig(out_dir / f'{y_value}.png', dpi=300, bbox_inches='tight')\n",
    "plt.show()"
   ]
  }
 ],
 "metadata": {
  "kernelspec": {
   "display_name": "heal-routing",
   "language": "python",
   "name": "python3"
  },
  "language_info": {
   "codemirror_mode": {
    "name": "ipython",
    "version": 3
   },
   "file_extension": ".py",
   "mimetype": "text/x-python",
   "name": "python",
   "nbconvert_exporter": "python",
   "pygments_lexer": "ipython3",
   "version": "3.9.21"
  }
 },
 "nbformat": 4,
 "nbformat_minor": 2
}
