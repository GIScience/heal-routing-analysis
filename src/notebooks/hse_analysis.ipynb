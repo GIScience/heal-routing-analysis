{
 "cells": [
  {
   "cell_type": "markdown",
   "metadata": {},
   "source": [
    "# High-Solar-Exposure (HSE) analysis"
   ]
  },
  {
   "cell_type": "code",
   "execution_count": 1,
   "metadata": {},
   "outputs": [],
   "source": [
    "import geopandas as gpd\n",
    "import matplotlib.pyplot as plt\n",
    "import pandas as pd\n",
    "import seaborn as sns\n",
    "import warnings\n",
    "from alive_progress import alive_it\n",
    "from pathlib import Path\n",
    "\n",
    "# Ignore FutureWarnings from geopandas\n",
    "warnings.simplefilter(action='ignore', category=FutureWarning)\n",
    "warnings.filterwarnings(action='ignore', message='.*initial implementation of Parquet.*')\n",
    "# Ignore SettingWithCopyWarning from (geo-)pandas\n",
    "pd.options.mode.chained_assignment = None  # default='warn'\n",
    "\n",
    "\n",
    "# Config\n",
    "day = 170\n",
    "sensitivity_factor = 1.0\n",
    "\n",
    "in_dir = Path(f'../../export/{day}/{sensitivity_factor}/exportdata')\n",
    "out_dir = Path(in_dir.parent / 'analysis/segment_level')\n",
    "out_dir.mkdir(parents=True, exist_ok=True)\n",
    "\n",
    "tod_list = ['10am', '1pm', '4pm', '7pm']\n",
    "colors = {\n",
    "    '10am': 'yellowgreen',\n",
    "    '1pm': 'darkgoldenrod',\n",
    "    '4pm': 'plum',\n",
    "    '7pm': 'tab:blue',\n",
    "}\n",
    "default_type = 'shortest'\n",
    "optimized_type = 'shaded'\n",
    "custom_labels = [default_type.title(), 'Shaded']\n",
    "\n",
    "high_sol_expo = 90\n",
    "low_sol_expo = 50\n",
    "\n",
    "n_routes = 625 * 16 # config file parameters (n_routes * poi types)\n",
    "\n",
    "sns.set_theme(style='whitegrid')\n",
    "sns.set_context('paper')\n",
    "\n",
    "xlim = (-2, 102)\n",
    "ylim = (-2, 102)\n",
    "ylim_neg=(2, -102)"
   ]
  },
  {
   "cell_type": "code",
   "execution_count": 2,
   "metadata": {},
   "outputs": [],
   "source": [
    "# Helper functions\n",
    "def tod_format(tod):\n",
    "    \"\"\"Returns the formatted time of day string\"\"\"\n",
    "    return tod[:-2] + ' ' + tod[-2:].upper()"
   ]
  },
  {
   "cell_type": "markdown",
   "metadata": {},
   "source": [
    "## Calculate HSE length and share per tod"
   ]
  },
  {
   "cell_type": "code",
   "execution_count": null,
   "metadata": {},
   "outputs": [],
   "source": [
    "hse_data = []\n",
    "\n",
    "for tod in tod_list:\n",
    "    print(f'Processing {tod} data...')\n",
    "    gdf = gpd.read_feather(in_dir / f'segments/segments_{tod}.feather')\n",
    "    gdf.to_crs(epsg=25832, inplace=True)\n",
    "    \n",
    "    for route_i in alive_it(range(1, n_routes + 1)):\n",
    "        gdf_ex = gdf[gdf['trip_id'] == route_i]\n",
    "        total_length = gdf_ex['geom'].length.sum()\n",
    "\n",
    "        gdf_hse = gdf_ex[gdf_ex[f'sol_expo_{tod}'] >= high_sol_expo]\n",
    "        hse_length = gdf_hse['geom'].length.sum()\n",
    "\n",
    "        hse_share = (hse_length / total_length) * 100\n",
    "\n",
    "        route_data = {\n",
    "            'trip_id': route_i,\n",
    "            'time_of_day': tod,\n",
    "            'route_type': f'{optimized_type} route',\n",
    "            'length': round(total_length, 2),\n",
    "            'hse_length': round(hse_length, 2),\n",
    "            'hse_share': round(hse_share, 2)\n",
    "        }\n",
    "        hse_data.append(route_data)"
   ]
  },
  {
   "cell_type": "markdown",
   "metadata": {},
   "source": [
    "### Add default data"
   ]
  },
  {
   "cell_type": "code",
   "execution_count": 48,
   "metadata": {},
   "outputs": [],
   "source": [
    "gdf = gpd.read_feather(in_dir / f'segments/segments_{default_type}.feather')\n",
    "gdf.to_crs(epsg=25832, inplace=True)"
   ]
  },
  {
   "cell_type": "code",
   "execution_count": 49,
   "metadata": {},
   "outputs": [],
   "source": [
    "hse_data_default = []"
   ]
  },
  {
   "cell_type": "code",
   "execution_count": null,
   "metadata": {},
   "outputs": [],
   "source": [
    "for route_i in alive_it(range(1, n_routes + 1)):\n",
    "    gdf_ex = gdf[gdf['trip_id'] == route_i]\n",
    "    total_length = gdf_ex['geom'].length.sum()\n",
    "\n",
    "    for tod in tod_list:\n",
    "        gdf_hse = gdf_ex[gdf_ex[f'sol_expo_{tod}'] >= high_sol_expo]\n",
    "        hse_length = gdf_hse['geom'].length.sum()\n",
    "\n",
    "        hse_share = (hse_length / total_length) * 100\n",
    "\n",
    "        route_data = {\n",
    "            'trip_id': route_i,\n",
    "            'time_of_day': tod,\n",
    "            'route_type': f'{default_type} route',\n",
    "            'length': round(total_length, 2),\n",
    "            'hse_length': round(hse_length, 2),\n",
    "            'hse_share': round(hse_share, 2)\n",
    "        }\n",
    "        hse_data_default.append(route_data)"
   ]
  },
  {
   "cell_type": "markdown",
   "metadata": {},
   "source": [
    "### Postprocess HSE data"
   ]
  },
  {
   "cell_type": "code",
   "execution_count": null,
   "metadata": {},
   "outputs": [],
   "source": [
    "len(hse_data), len(hse_data_default)"
   ]
  },
  {
   "cell_type": "code",
   "execution_count": null,
   "metadata": {},
   "outputs": [],
   "source": [
    "hse_df = pd.DataFrame(hse_data + hse_data_default)\n",
    "hse_df.sort_values(by=['trip_id', 'time_of_day'], inplace=True)\n",
    "hse_df.reset_index(drop=True, inplace=True)\n",
    "hse_df"
   ]
  },
  {
   "cell_type": "code",
   "execution_count": 53,
   "metadata": {},
   "outputs": [],
   "source": [
    "hse_df.to_feather(out_dir / 'hse_segments.feather')"
   ]
  },
  {
   "cell_type": "markdown",
   "metadata": {},
   "source": [
    "## Plotting"
   ]
  },
  {
   "cell_type": "code",
   "execution_count": 5,
   "metadata": {},
   "outputs": [],
   "source": [
    "hse_df = pd.read_feather(out_dir / 'hse_segments.feather')"
   ]
  },
  {
   "cell_type": "markdown",
   "metadata": {},
   "source": [
    "### HSE Share"
   ]
  },
  {
   "cell_type": "code",
   "execution_count": null,
   "metadata": {},
   "outputs": [],
   "source": [
    "fig, axes = plt.subplots(ncols=4, nrows=1, figsize=(12, 5), sharey=True)\n",
    "\n",
    "y_value = 'hse_share'\n",
    "y_label = 'Share of HSE segments [%]'\n",
    "\n",
    "for col, (tod, ax) in enumerate(zip(tod_list, axes)):\n",
    "    df_ex = hse_df[hse_df['time_of_day'] == tod]\n",
    "    g = sns.boxenplot(data=df_ex, x='route_type', y=y_value, order=[f'{default_type} route', f'{optimized_type} route'], palette={f'{default_type} route': 'darkgrey', f'{optimized_type} route': colors[tod]},  ax=ax)\n",
    "    g.set_xlabel('')\n",
    "    g.set_ylabel(y_label, fontsize=12) if col == 0 else g.set_ylabel('')\n",
    "    g.set_ylim(ylim)\n",
    "    g.set_title(tod_format(tod), fontsize=12)\n",
    "    median_default = df_ex[df_ex['route_type'] == f'{default_type} route'][y_value].median()\n",
    "    median_time = df_ex[df_ex['route_type'] == f'{optimized_type} route'][y_value].median()\n",
    "    max_default = df_ex[df_ex['route_type'] == f'{default_type} route'][y_value].max()\n",
    "    max_time = df_ex[df_ex['route_type'] == f'{optimized_type} route'][y_value].max()\n",
    "    min_default = df_ex[df_ex['route_type'] == f'{default_type} route'][y_value].min()\n",
    "    min_time = df_ex[df_ex['route_type'] == f'{optimized_type} route'][y_value].min()\n",
    "    g.text(0, median_default, f'{round(median_default, 2)}', ha='center', va='center', fontweight='bold', fontsize=10, color='white')\n",
    "    g.text(1, median_time, f'{round(median_time, 2)}', ha='center', va='center', fontweight='bold', fontsize=10, color='white')\n",
    "    g.set_xticklabels(custom_labels, fontsize=12)\n",
    "\n",
    "    print(f'{tod} - {y_value} - {default_type} - Median: {median_default} - Max: {max_default} - Min: {min_default}')\n",
    "    print(f'{tod} - {y_value} - {optimized_type} - Median: {median_time} - Max: {max_time} - Min: {min_time}')\n",
    "\n",
    "plt.tight_layout()\n",
    "plt.savefig(out_dir / f'{y_value}.png', dpi=300, bbox_inches='tight')\n",
    "plt.show()"
   ]
  }
 ],
 "metadata": {
  "kernelspec": {
   "display_name": "heal-routing",
   "language": "python",
   "name": "python3"
  },
  "language_info": {
   "codemirror_mode": {
    "name": "ipython",
    "version": 3
   },
   "file_extension": ".py",
   "mimetype": "text/x-python",
   "name": "python",
   "nbconvert_exporter": "python",
   "pygments_lexer": "ipython3",
   "version": "3.9.20"
  }
 },
 "nbformat": 4,
 "nbformat_minor": 2
}
