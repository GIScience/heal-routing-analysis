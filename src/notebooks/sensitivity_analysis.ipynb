{
 "cells": [
  {
   "cell_type": "code",
   "execution_count": 1,
   "metadata": {},
   "outputs": [],
   "source": [
    "import geopandas as gpd\n",
    "import matplotlib.pyplot as plt\n",
    "import numpy as np\n",
    "import pandas as pd\n",
    "import seaborn as sns\n",
    "import warnings\n",
    "from matplotlib import colormaps as cm\n",
    "from matplotlib.colors import LinearSegmentedColormap\n",
    "from pathlib import Path\n",
    "from statsmodels.nonparametric.smoothers_lowess import lowess\n",
    "\n",
    "# Ignore FutureWarnings from geopandas\n",
    "warnings.simplefilter(action='ignore', category=FutureWarning)\n",
    "warnings.filterwarnings(action='ignore', message='.*initial implementation of Parquet.*')\n",
    "# Ignore SettingWithCopyWarning from (geo-)pandas\n",
    "pd.options.mode.chained_assignment = None  # default='warn'\n",
    "\n",
    "\n",
    "# Config\n",
    "day = 170\n",
    "\n",
    "in_dir = Path(f'../../export/{day}')\n",
    "out_dir = Path(in_dir / 'sensitivity_analysis')\n",
    "out_dir.mkdir(parents=True, exist_ok=True)\n",
    "\n",
    "tod_list = ['10am', '1pm', '4pm', '7pm']\n",
    "sensitivity_factors = [0.2, 0.4, 0.6, 0.8, 1.0]\n",
    "len_types = ['short', 'long']\n",
    "optimized_type = 'shaded'\n",
    "\n",
    "sns.set_theme(style='whitegrid')\n",
    "sns.set_context('paper')\n",
    "\n",
    "xlim = (-2, 102)\n",
    "ylim = (-2, 102)"
   ]
  },
  {
   "cell_type": "code",
   "execution_count": 2,
   "metadata": {},
   "outputs": [],
   "source": [
    "# Helper functions\n",
    "def tod_format(tod):\n",
    "    \"\"\"Returns the formatted time of day string\"\"\"\n",
    "    return tod[:-2] + ' ' + tod[-2:].upper()\n",
    "\n",
    "# Function to slice a colormap\n",
    "def slice_cmap(cmap, min_val=0.0, max_val=1.0):\n",
    "    \"\"\"Returns a sliced colormap\"\"\"\n",
    "    return LinearSegmentedColormap.from_list(\n",
    "        f'sliced_{cmap.name}',\n",
    "        cmap(np.linspace(min_val, max_val, 256))\n",
    "    )"
   ]
  },
  {
   "cell_type": "markdown",
   "metadata": {},
   "source": [
    "## Sensitivity Factor Analysis"
   ]
  },
  {
   "cell_type": "markdown",
   "metadata": {},
   "source": [
    "Preprocessing"
   ]
  },
  {
   "cell_type": "code",
   "execution_count": null,
   "metadata": {},
   "outputs": [],
   "source": [
    "results = pd.DataFrame()\n",
    "for sensitivity_factor in sensitivity_factors:\n",
    "    data_dir = in_dir / f'{sensitivity_factor}' / 'exportdata'\n",
    "    data = gpd.read_feather(data_dir / 'all_routes_statistics.feather')\n",
    "\n",
    "    data['sensitivity_factor'] = sensitivity_factor\n",
    "\n",
    "    results = pd.concat([results, data], ignore_index=True)"
   ]
  },
  {
   "cell_type": "code",
   "execution_count": 4,
   "metadata": {},
   "outputs": [],
   "source": [
    "results.to_feather(out_dir / 'all_routes_statistics_170_sensitivities.feather', index=False)"
   ]
  },
  {
   "cell_type": "markdown",
   "metadata": {},
   "source": [
    "Start from here"
   ]
  },
  {
   "cell_type": "code",
   "execution_count": 5,
   "metadata": {},
   "outputs": [],
   "source": [
    "results = pd.read_feather(out_dir / 'all_routes_statistics_170_sensitivities.feather')\n",
    "results_ex = results[results['len_diff_rel'] > 0]"
   ]
  },
  {
   "cell_type": "code",
   "execution_count": null,
   "metadata": {},
   "outputs": [],
   "source": [
    "results_ex.groupby('sensitivity_factor')['sol_expo_reduction'].mean()"
   ]
  },
  {
   "cell_type": "code",
   "execution_count": null,
   "metadata": {},
   "outputs": [],
   "source": [
    "results_ex['len_type'] = np.where(results_ex['distance'] < 1000, 'short', 'long')"
   ]
  },
  {
   "cell_type": "markdown",
   "metadata": {},
   "source": [
    "## Smoother comparison: sensitivities & short/long"
   ]
  },
  {
   "cell_type": "code",
   "execution_count": null,
   "metadata": {},
   "outputs": [],
   "source": [
    "x_value = 'len_diff_rel'\n",
    "y_value = 'sol_expo_reduction'\n",
    "\n",
    "norm = plt.Normalize(0, max(sensitivity_factors))\n",
    "cmap = cm.get_cmap('plasma_r')\n",
    "\n",
    "for len_type in len_types:\n",
    "    fig, axs = plt.subplots(1, len(tod_list), figsize=(17, 5))\n",
    "\n",
    "    df_lt = results_ex[results_ex['len_type'] == len_type]\n",
    "    for col, tod in enumerate(tod_list):\n",
    "        ax = axs[col]\n",
    "        df_lt_tod = df_lt[df_lt['route_type'] == f'{optimized_type} route at {tod}']\n",
    "        ax.plot((0, 100), (0, 100), color='silver', linestyle=':', linewidth=1)\n",
    "        for sensitivity_factor in sensitivity_factors:\n",
    "            df_lt_sw = df_lt_tod[df_lt_tod['sensitivity_factor'] == sensitivity_factor]\n",
    "            xmean_heal = df_lt_sw[x_value].mean()\n",
    "            ymean_heal = df_lt_sw[y_value].mean()\n",
    "            # Compute a lowess smoothing of the data\n",
    "            smoothed = lowess(exog=df_lt_sw[y_value], endog=df_lt_sw[x_value], frac=0.2)\n",
    "            color = cmap(norm(sensitivity_factor))\n",
    "            ax.plot(smoothed[:, 1], smoothed[:, 0], color=color, linestyle='-', linewidth=2, label=sensitivity_factor)\n",
    "            ax.axhline(ymean_heal, color=color, linestyle='--', linewidth=1)\n",
    "            ax.axvline(xmean_heal, color=color, linestyle='--', linewidth=1)\n",
    "\n",
    "        ax.set_title(tod_format(tod), fontsize=16)\n",
    "        ax.set_xlim(xlim)\n",
    "        ax.set_xlabel('Length increase [%]', fontsize=16)\n",
    "        ax.set_ylim(ylim)\n",
    "        ax.set_ylabel('Solar exposure reduction [%]', fontsize=16) if col == 0 else ax.set_ylabel('')\n",
    "        ax.invert_yaxis()\n",
    "        ax.tick_params(axis='both', which='major', labelsize=12)\n",
    "    ax.legend(title='Sensitivity\\nfactor', title_fontsize=12, fontsize=12, loc='upper right')\n",
    "\n",
    "    plt.tight_layout()\n",
    "    plt.savefig(out_dir / f'lowess_sensitivities_{len_type}.png', dpi=300, bbox_inches='tight')\n",
    "    plt.show()"
   ]
  }
 ],
 "metadata": {
  "kernelspec": {
   "display_name": "heal-routing",
   "language": "python",
   "name": "python3"
  },
  "language_info": {
   "codemirror_mode": {
    "name": "ipython",
    "version": 3
   },
   "file_extension": ".py",
   "mimetype": "text/x-python",
   "name": "python",
   "nbconvert_exporter": "python",
   "pygments_lexer": "ipython3",
   "version": "3.9.20"
  },
  "orig_nbformat": 4
 },
 "nbformat": 4,
 "nbformat_minor": 2
}
