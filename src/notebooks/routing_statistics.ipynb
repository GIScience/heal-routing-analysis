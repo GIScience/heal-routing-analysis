{
 "cells": [
  {
   "cell_type": "markdown",
   "metadata": {},
   "source": [
    "# Routing Analysis"
   ]
  },
  {
   "cell_type": "code",
   "execution_count": 7,
   "metadata": {},
   "outputs": [],
   "source": [
    "import geopandas as gpd\n",
    "import matplotlib.pyplot as plt\n",
    "import numpy as np\n",
    "import seaborn as sns\n",
    "from matplotlib.lines import Line2D\n",
    "from pathlib import Path\n",
    "from statsmodels.nonparametric.smoothers_lowess import lowess\n",
    "\n",
    "\n",
    "# Config\n",
    "day = 170\n",
    "sensitivity_factor = 1.0\n",
    "\n",
    "in_dir = Path(f'../../export/{day}/{sensitivity_factor}/exportdata')\n",
    "out_dir = Path(in_dir.parent / 'analysis/route_level')\n",
    "out_dir.mkdir(parents=True, exist_ok=True)\n",
    "\n",
    "tod_list = ['10am', '1pm', '4pm', '7pm']\n",
    "colors = [\n",
    "    'yellowgreen',\n",
    "    'darkgoldenrod',\n",
    "    'plum',\n",
    "    'tab:blue',\n",
    "]\n",
    "default_type = 'shortest'\n",
    "optimized_type = 'shaded'\n",
    "\n",
    "palette = {\n",
    "    f'{default_type} route': 'darkgrey',\n",
    "    f'{optimized_type} route at {tod_list[0]}': colors[0],\n",
    "    f'{optimized_type} route at {tod_list[1]}': colors[1],\n",
    "    f'{optimized_type} route at {tod_list[2]}': colors[2],\n",
    "    f'{optimized_type} route at {tod_list[3]}': colors[3],\n",
    "}\n",
    "\n",
    "palette_sl = {\n",
    "    'long': 'black',\n",
    "    'short': 'darkturquoise',\n",
    "}\n",
    "\n",
    "sns.set_theme(style='whitegrid')\n",
    "sns.set_context('paper')\n",
    "\n",
    "xlim = (-2, 102)\n",
    "ylim = (-2, 102)\n",
    "ylim_neg = (2, -102)"
   ]
  },
  {
   "cell_type": "code",
   "execution_count": 22,
   "metadata": {},
   "outputs": [],
   "source": [
    "# Helper functions\n",
    "def subfolder(out_dir, name):\n",
    "    \"\"\"Returns the respective folder path and creates subfolders in out_dir with timestamps if not existent already\"\"\"\n",
    "    out_folder = out_dir / name\n",
    "    out_folder.mkdir(exist_ok=True)\n",
    "    return out_folder\n",
    "\n",
    "def tod_format(tod):\n",
    "    \"\"\"Returns the formatted time of day string\"\"\"\n",
    "    return tod[:-2] + ' ' + tod[-2:].upper()"
   ]
  },
  {
   "cell_type": "markdown",
   "metadata": {},
   "source": [
    "## Preprocessing"
   ]
  },
  {
   "cell_type": "code",
   "execution_count": null,
   "metadata": {},
   "outputs": [],
   "source": [
    "df = gpd.read_feather(in_dir / 'all_routes_statistics.feather')\n",
    "print(df.columns)\n",
    "print('Total routes: ', len(df))"
   ]
  },
  {
   "cell_type": "code",
   "execution_count": null,
   "metadata": {},
   "outputs": [],
   "source": [
    "df_u0 = df[df['len_diff_rel'] < 0]\n",
    "print(len(df_u0), len(df))\n",
    "df_u0.value_counts('route_type')"
   ]
  },
  {
   "cell_type": "code",
   "execution_count": null,
   "metadata": {},
   "outputs": [],
   "source": [
    "df_0 = df[df['len_diff_rel'] == 0.0]\n",
    "print(len(df_0), len(df))\n",
    "df_0.value_counts('route_type')"
   ]
  },
  {
   "cell_type": "code",
   "execution_count": null,
   "metadata": {},
   "outputs": [],
   "source": [
    "df_o0 = df[df['len_diff_rel'] > 0]\n",
    "print(len(df_o0), len(df))\n",
    "df_o0.value_counts('route_type')"
   ]
  },
  {
   "cell_type": "markdown",
   "metadata": {},
   "source": [
    "### Relative Length Increase vs. Solar Exposure Area Reduction "
   ]
  },
  {
   "cell_type": "code",
   "execution_count": 10,
   "metadata": {},
   "outputs": [],
   "source": [
    "x_value = 'len_diff_rel'\n",
    "x_val_label='Length increase [%]'\n",
    "\n",
    "y_value = 'sol_expo_reduction'\n",
    "y_val_label='Solar exposure reduction [%]'"
   ]
  },
  {
   "cell_type": "code",
   "execution_count": null,
   "metadata": {},
   "outputs": [],
   "source": [
    "for tod, color in zip(tod_list, colors):\n",
    "    # extract row where sol_expo is not nan\n",
    "    dfex = df[df[f'sol_expo_{tod}'].notna()]\n",
    "    dfex = dfex[dfex['len_diff_rel'] > 0]\n",
    "    dfex_heal = dfex[dfex['route_type'] == f'{optimized_type} route at {tod}']\n",
    "\n",
    "    # calculate mean values\n",
    "    xmean_heal = dfex_heal[x_value].mean()\n",
    "    ymean_heal = dfex_heal[y_value].mean()\n",
    "\n",
    "    # create Jointgrid instance and add scatter plot and kde plot\n",
    "    g = sns.JointGrid(data=dfex_heal, x=x_value, y=y_value, ylim=ylim, xlim=xlim, height=5, marginal_ticks=False)\n",
    "    g.ax_joint.plot((0, 100), (0, 100), color='silver', linestyle=':', linewidth=1)\n",
    "    g.plot_joint(sns.scatterplot, alpha=0.66, s=5, color='silver')\n",
    "    g.plot_marginals(sns.kdeplot, cut=0, color=color)\n",
    "    # Compute a lowess smoothing of the data\n",
    "    smoothed = lowess(exog=dfex_heal[y_value], endog=dfex_heal[x_value], frac=0.2)\n",
    "    # add mean values as lines\n",
    "    g.refline(x=xmean_heal, y=ymean_heal, color=color, linewidth=1)\n",
    "    # add smoothed line\n",
    "    g.ax_joint.plot(smoothed[:, 1], smoothed[:, 0], color=color, lw=2)\n",
    "    # Invert the y-axis\n",
    "    g.ax_joint.invert_yaxis()\n",
    "    # Set custom ticks\n",
    "    g.ax_joint.set_xticks(np.arange(0, 101, 20))\n",
    "    g.ax_joint.set_yticks(np.arange(0, 101, 20))\n",
    "\n",
    "    # set labels\n",
    "    g.set_axis_labels(x_val_label, y_val_label, fontsize=12)\n",
    "\n",
    "    # Add legend manually with line handles\n",
    "    line = Line2D([0], [0], color=color, lw=2)\n",
    "    g.ax_joint.legend([line], [tod_format(tod)], fontsize=10, loc='upper right')\n",
    "\n",
    "    plt.tight_layout()\n",
    "    plt.savefig(subfolder(out_dir, 'length_vs_sol_expo') / f'lowess_{tod}.png', dpi=300, bbox_inches='tight')\n",
    "    plt.show()"
   ]
  },
  {
   "cell_type": "code",
   "execution_count": null,
   "metadata": {},
   "outputs": [],
   "source": [
    "# create Jointgrid instance and add scatter plot and kde plot\n",
    "g = sns.JointGrid(data=df, x=x_value, y=y_value, ylim=ylim, xlim=xlim, height=5, marginal_ticks=False)\n",
    "g.ax_joint.plot((0, 100), (0, 100), color='silver', linestyle=':', linewidth=1)\n",
    "\n",
    "for tod, color in zip(tod_list, colors):\n",
    "    # extract row where sol_expo is not nan\n",
    "    dfex = df[df[f'sol_expo_{tod}'].notna()]\n",
    "    dfex = dfex[dfex['len_diff_rel'] > 0]\n",
    "    dfex_heal = dfex[dfex['route_type'] == f'{optimized_type} route at {tod}']\n",
    "\n",
    "    # calculate mean values\n",
    "    xmean_heal = dfex_heal[x_value].mean()\n",
    "    ymean_heal = dfex_heal[y_value].mean()\n",
    "    print(f'{tod}: xmean={xmean_heal}, ymean={ymean_heal}')\n",
    "\n",
    "    # Compute a lowess smoothing of the data\n",
    "    smoothed = lowess(exog=dfex_heal[y_value], endog=dfex_heal[x_value], frac=0.2)\n",
    "\n",
    "    # Add KDE plots to marginals\n",
    "    sns.kdeplot(data=dfex_heal, x=x_value, ax=g.ax_marg_x, color=color, cut=0)\n",
    "    sns.kdeplot(data=dfex_heal, y=y_value, ax=g.ax_marg_y, color=color, cut=0)\n",
    "\n",
    "    # Add smoothed line\n",
    "    g.ax_joint.plot(smoothed[:, 1], smoothed[:, 0], color=color, lw=2, label=tod_format(tod))\n",
    "\n",
    "    # Add mean values as lines\n",
    "    g.refline(x=xmean_heal, y=ymean_heal, color=color, linestyle='--', linewidth=1)\n",
    "\n",
    "# Custom Axes\n",
    "g.ax_joint.invert_yaxis()\n",
    "\n",
    "# Set custom ticks\n",
    "g.ax_joint.set_xticks(np.arange(0, 101, 20))\n",
    "g.ax_joint.set_yticks(np.arange(0, 101, 20))\n",
    "\n",
    "# set labels\n",
    "g.set_axis_labels(x_val_label, y_val_label, fontsize=12)\n",
    "\n",
    "# Add legend\n",
    "handles, labels = g.ax_joint.get_legend_handles_labels()\n",
    "g.ax_joint.legend(handles=handles, labels=labels, fontsize=10, loc='upper right')\n",
    "\n",
    "plt.tight_layout()\n",
    "plt.savefig(subfolder(out_dir, 'length_vs_sol_expo') / f'lowess_alltimes.png', dpi=300, bbox_inches='tight')\n",
    "plt.show()"
   ]
  },
  {
   "cell_type": "markdown",
   "metadata": {},
   "source": [
    "## Boxenplot: Solar Exposure"
   ]
  },
  {
   "cell_type": "code",
   "execution_count": null,
   "metadata": {},
   "outputs": [],
   "source": [
    "fig, axes = plt.subplots(ncols=4, nrows=1, figsize=(12, 5), sharey=True)\n",
    "\n",
    "for col, (tod, ax) in enumerate(zip(tod_list, axes)):\n",
    "    dfex = df[df[f'sol_expo_{tod}'].notna()]\n",
    "    g = sns.boxenplot(data=dfex, x='route_type', y=f'sol_expo_{tod}', palette=palette, ax=ax)\n",
    "    g.set_xlabel('')\n",
    "    g.set_ylabel('Solar exposure [%]', fontsize=12) if col == 0 else g.set_ylabel('')\n",
    "    g.set_ylim(-2, 102)\n",
    "    g.set_title(tod_format(tod), fontsize=12)\n",
    "    median_default = dfex[dfex['route_type'] == f'{default_type} route'][f'sol_expo_{tod}'].median()\n",
    "    median_time = dfex[dfex['route_type'] == f'{optimized_type} route at {tod}'][f'sol_expo_{tod}'].median()\n",
    "    max_default = dfex[dfex['route_type'] == f'{default_type} route'][f'sol_expo_{tod}'].max()\n",
    "    max_time = dfex[dfex['route_type'] == f'{optimized_type} route at {tod}'][f'sol_expo_{tod}'].max()\n",
    "    min_default = dfex[dfex['route_type'] == f'{default_type} route'][f'sol_expo_{tod}'].min()\n",
    "    min_time = dfex[dfex['route_type'] == f'{optimized_type} route at {tod}'][f'sol_expo_{tod}'].min()\n",
    "    g.text(0, median_default, f'{round(median_default, 2)}', ha='center', va='center', fontweight='bold', fontsize=10, color='white')\n",
    "    g.text(1, median_time, f'{round(median_time, 2)}', ha='center', va='center', fontweight='bold', fontsize=10, color='white')\n",
    "    g.set_xticklabels([f'{default_type.title()}\\n\\n{max_default}\\n{min_default}', f'Shaded\\n\\n{max_time}\\n{min_time}'], fontsize=12)\n",
    "\n",
    "plt.tight_layout()\n",
    "plt.savefig(out_dir / f'sol_expo.png', dpi=300, bbox_inches='tight')\n",
    "plt.show()"
   ]
  }
 ],
 "metadata": {
  "kernelspec": {
   "display_name": "heal-routing",
   "language": "python",
   "name": "python3"
  },
  "language_info": {
   "codemirror_mode": {
    "name": "ipython",
    "version": 3
   },
   "file_extension": ".py",
   "mimetype": "text/x-python",
   "name": "python",
   "nbconvert_exporter": "python",
   "pygments_lexer": "ipython3",
   "version": "3.9.20"
  },
  "orig_nbformat": 4
 },
 "nbformat": 4,
 "nbformat_minor": 2
}
